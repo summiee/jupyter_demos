{
 "cells": [
  {
   "cell_type": "code",
   "execution_count": 1,
   "id": "4c3455dd",
   "metadata": {},
   "outputs": [],
   "source": [
    "import pydoocs\n",
    "from time import sleep, time\n",
    "from datetime import datetime\n",
    "import h5py\n",
    "import numpy as np\n"
   ]
  },
  {
   "cell_type": "code",
   "execution_count": 2,
   "id": "037fc072",
   "metadata": {},
   "outputs": [],
   "source": [
    "class DoocsData:\n",
    "    \n",
    "    def __init__(self, doocs_addr):\n",
    "        self._doocs_addr = doocs_addr\n",
    "        self.data = []\n",
    "        self.timestamps = []\n",
    "        self.trainIDs = []\n",
    "    \n",
    "    def read(self):\n",
    "        doocs_dict = pydoocs.read(self._doocs_addr)\n",
    "        current_trainID = doocs_dict[\"macropulse\"]\n",
    "        sleep(0.001)\n",
    "        if not self.trainIDs or current_trainID != self.trainIDs[-1]:\n",
    "            self.data.append(doocs_dict[\"data\"])\n",
    "            self.timestamps.append(doocs_dict[\"timestamp\"])\n",
    "            self.trainIDs.append(current_trainID)\n",
    "\n",
    "\n",
    "class DoocsRecorder:\n",
    "    \n",
    "    def __init__(self, filename, doocs_addrs, number_of_trains=36000):\n",
    "        self._filename = filename\n",
    "        self._doocs_addrs = doocs_addrs\n",
    "        self._number_of_trains = number_of_trains\n",
    "        self._recorded_trains = 0\n",
    "        \n",
    "    def record(self):\n",
    "        chunck_sizes = self._chunck_trains(6000)\n",
    "        for chunck in chunck_sizes:\n",
    "            self._record_single_file(chunck)\n",
    "        \n",
    "    def _record_single_file(self, trains_per_file):\n",
    "        self._create_doocs_data()\n",
    "        try:\n",
    "            first_dset = self._doocs_data[list(self._doocs_addrs.keys())[0]]\n",
    "            while len(first_dset.trainIDs) < trains_per_file:\n",
    "                self._update_doocs_data()\n",
    "            self._write_to_h5()\n",
    "            print(f\"Done with recording {trains_per_file} trains.\")\n",
    "        except KeyboardInterrupt:\n",
    "            self._write_to_h5()\n",
    "            print(\"Stop requested by user: save recorded data.\")\n",
    "        \n",
    "    def _create_doocs_data(self):\n",
    "        self._doocs_data = {}\n",
    "        for name in self._doocs_addrs:\n",
    "            self._doocs_data[name] = DoocsData(self._doocs_addrs[name])\n",
    "            \n",
    "    def _update_doocs_data(self):\n",
    "        for name, data in self._doocs_data.items():\n",
    "                data.read()    \n",
    "        \n",
    "    def _write_to_h5(self):\n",
    "        current_timestamp = self._current_timestamp()\n",
    "        with h5py.File(f\"{self._filename}_{current_timestamp}.h5\", \"w\") as f:\n",
    "            for name, data in self._doocs_data.items():            \n",
    "                f.create_dataset(name+\"/data\", data=np.asarray(data.data))\n",
    "                f.create_dataset(name+\"/timestamp\", data=np.asarray(data.timestamps))\n",
    "                f.create_dataset(name+\"/trainId\", data=np.asarray(data.trainIDs))\n",
    "    \n",
    "    def _current_timestamp(self):\n",
    "        date_time = datetime.fromtimestamp(time())\n",
    "        return date_time.strftime(\"%Y%m%dT%H%M%S\")\n",
    "    \n",
    "    def _chunck_trains(self, max_trains_per_file):\n",
    "        chunck_sizes = self._number_of_trains//max_trains_per_file * [max_trains_per_file]     \n",
    "        chunck_sizes += [self._number_of_trains % max_trains_per_file]\n",
    "        return chunck_sizes\n",
    "\n"
   ]
  },
  {
   "cell_type": "code",
   "execution_count": 3,
   "id": "2b10cf99",
   "metadata": {},
   "outputs": [
    {
     "name": "stdout",
     "output_type": "stream",
     "text": [
      "Done with recording 101 trains.\n"
     ]
    }
   ],
   "source": [
    "doocs_addr = {\"A\": \"FLASH.DIAG/TOROID/7FL2DUMP/CHARGE.FLASH2\",\n",
    "              \"B\": \"FLASH.DIAG/TIMER/FLASHCPUTIME1.0/NUMBER_BUNCHES.1\"}\n",
    "#               \"C\": \"FLASH.FEL/ADC.ADQ.BL1/EXP1.CH00/CH00.DAQ.TD\"\n",
    "## bad for big data like traces & images -> skips trains in all channels\n",
    "\n",
    "filename = \"fsla\"\n",
    "number_of_trains = 101\n",
    "\n",
    "recoder = DoocsRecorder(filename, doocs_addr, number_of_trains)\n",
    "recoder.record()"
   ]
  },
  {
   "cell_type": "code",
   "execution_count": null,
   "id": "8fbb29a5",
   "metadata": {},
   "outputs": [],
   "source": []
  }
 ],
 "metadata": {
  "kernelspec": {
   "display_name": "Python 3",
   "language": "python",
   "name": "python3"
  },
  "language_info": {
   "codemirror_mode": {
    "name": "ipython",
    "version": 3
   },
   "file_extension": ".py",
   "mimetype": "text/x-python",
   "name": "python",
   "nbconvert_exporter": "python",
   "pygments_lexer": "ipython3",
   "version": "3.7.10"
  }
 },
 "nbformat": 4,
 "nbformat_minor": 5
}
