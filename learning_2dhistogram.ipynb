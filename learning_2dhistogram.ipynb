{
 "cells": [
  {
   "cell_type": "code",
   "execution_count": 1,
   "id": "ed212b9c",
   "metadata": {},
   "outputs": [],
   "source": [
    "import numpy as np\n",
    "import pandas as pd\n",
    "import matplotlib.pyplot as plt\n",
    "\n",
    "from random import choices"
   ]
  },
  {
   "cell_type": "markdown",
   "id": "21a6b2d5",
   "metadata": {},
   "source": [
    "#TODO\n",
    "- [x] delays\n",
    "    - [x] with noise\n",
    "- [x] values\n",
    "    - [x] with noise\n",
    "- [x] names\n",
    "- [x] create dataframe\n",
    "- [x] extract by name\n",
    "- [x] plot 2d Histogram\n",
    "- [x] normalize on delay bin"
   ]
  },
  {
   "cell_type": "markdown",
   "id": "f59eacf8",
   "metadata": {},
   "source": [
    "### create fake data"
   ]
  },
  {
   "cell_type": "code",
   "execution_count": 2,
   "id": "b30e3147",
   "metadata": {},
   "outputs": [],
   "source": [
    "def add_noise(mean=0., width=0.5):\n",
    "    return np.random.normal(mean, width)\n",
    "\n",
    "def get_delay(population= [1., 2., 3., 4., 5., 6., 7.],\n",
    "              weights= [1., 0.2, 1., 0.2, 1., 0.2, 1.]):\n",
    "    return choices(population, weights)[0] + add_noise()\n",
    "\n",
    "def get_value(population= [1., 2., 3., 4., 5.],\n",
    "              weights= [1., 3., 5., 3., 1.]):\n",
    "    return choices(population, weights)[0] + add_noise()\n",
    "\n",
    "def get_name(population= [\"good ion\", \"bad ion\", \"evil ion\"],\n",
    "              weights= [1., 2., 0.1]):\n",
    "    return choices(population, weights)[0]\n",
    "\n",
    "\n"
   ]
  },
  {
   "cell_type": "code",
   "execution_count": 3,
   "id": "cba917fd",
   "metadata": {},
   "outputs": [
    {
     "data": {
      "image/png": "[encoded data removed]",
      "text/plain": [
       "<Figure size 432x288 with 1 Axes>"
      ]
     },
     "metadata": {
      "needs_background": "light"
     },
     "output_type": "display_data"
    },
    {
     "data": {
      "image/png": "[encoded data removed]",
      "text/plain": [
       "<Figure size 432x288 with 1 Axes>"
      ]
     },
     "metadata": {
      "needs_background": "light"
     },
     "output_type": "display_data"
    },
    {
     "data": {
      "image/png": "[encoded data removed]",
      "text/plain": [
       "<Figure size 432x288 with 1 Axes>"
      ]
     },
     "metadata": {
      "needs_background": "light"
     },
     "output_type": "display_data"
    }
   ],
   "source": [
    "samples = 1000\n",
    "\n",
    "delays = [get_delay() for i in range(samples)]\n",
    "delay_bins = np.array([0,1,2,3,4,5,6,7]) + 0.5\n",
    "\n",
    "values = [get_value() for i in range(samples)]\n",
    "value_bins = np.array([0,1,2,3,4,5]) + 0.5\n",
    "\n",
    "\n",
    "plt.hist(delays, bins=delay_bins)\n",
    "plt.title(\"delay distribution\")\n",
    "plt.xlabel(\"delay\")\n",
    "plt.ylabel(\"frequency\")\n",
    "plt.show()\n",
    "\n",
    "plt.hist(values, bins=value_bins)\n",
    "plt.title(\"value distribution\")\n",
    "plt.xlabel(\"value\")\n",
    "plt.ylabel(\"frequency\")\n",
    "plt.show()\n",
    "\n",
    "plt.hist2d(delays, values, bins=[delay_bins, value_bins])\n",
    "plt.xlabel(\"delay\")\n",
    "plt.ylabel(\"value\")\n",
    "plt.show()"
   ]
  },
  {
   "cell_type": "code",
   "execution_count": 4,
   "id": "b1b8943b",
   "metadata": {},
   "outputs": [],
   "source": [
    "def create_df(events):\n",
    "    data = [(get_delay(), get_value(), get_name()) for i in range(events)]\n",
    "    df = pd.DataFrame(data=data, columns=[\"delay\", \"value\", \"name\"])\n",
    "    df.index.name = \"eventID\"\n",
    "    return df\n",
    "    \n",
    "    "
   ]
  },
  {
   "cell_type": "code",
   "execution_count": 5,
   "id": "a21376f3",
   "metadata": {},
   "outputs": [
    {
     "data": {
      "text/html": [
       "<div>\n",
       "<style scoped>\n",
       "    .dataframe tbody tr th:only-of-type {\n",
       "        vertical-align: middle;\n",
       "    }\n",
       "\n",
       "    .dataframe tbody tr th {\n",
       "        vertical-align: top;\n",
       "    }\n",
       "\n",
       "    .dataframe thead th {\n",
       "        text-align: right;\n",
       "    }\n",
       "</style>\n",
       "<table border=\"1\" class=\"dataframe\">\n",
       "  <thead>\n",
       "    <tr style=\"text-align: right;\">\n",
       "      <th></th>\n",
       "      <th>delay</th>\n",
       "      <th>value</th>\n",
       "      <th>name</th>\n",
       "    </tr>\n",
       "    <tr>\n",
       "      <th>eventID</th>\n",
       "      <th></th>\n",
       "      <th></th>\n",
       "      <th></th>\n",
       "    </tr>\n",
       "  </thead>\n",
       "  <tbody>\n",
       "    <tr>\n",
       "      <th>0</th>\n",
       "      <td>5.400453</td>\n",
       "      <td>3.539021</td>\n",
       "      <td>good ion</td>\n",
       "    </tr>\n",
       "    <tr>\n",
       "      <th>1</th>\n",
       "      <td>0.906677</td>\n",
       "      <td>1.048150</td>\n",
       "      <td>bad ion</td>\n",
       "    </tr>\n",
       "    <tr>\n",
       "      <th>2</th>\n",
       "      <td>7.118253</td>\n",
       "      <td>2.415279</td>\n",
       "      <td>good ion</td>\n",
       "    </tr>\n",
       "    <tr>\n",
       "      <th>3</th>\n",
       "      <td>4.146728</td>\n",
       "      <td>3.219579</td>\n",
       "      <td>bad ion</td>\n",
       "    </tr>\n",
       "    <tr>\n",
       "      <th>4</th>\n",
       "      <td>0.914275</td>\n",
       "      <td>3.492466</td>\n",
       "      <td>evil ion</td>\n",
       "    </tr>\n",
       "  </tbody>\n",
       "</table>\n",
       "</div>"
      ],
      "text/plain": [
       "            delay     value      name\n",
       "eventID                              \n",
       "0        5.400453  3.539021  good ion\n",
       "1        0.906677  1.048150   bad ion\n",
       "2        7.118253  2.415279  good ion\n",
       "3        4.146728  3.219579   bad ion\n",
       "4        0.914275  3.492466  evil ion"
      ]
     },
     "execution_count": 5,
     "metadata": {},
     "output_type": "execute_result"
    }
   ],
   "source": [
    "events = 10000\n",
    "\n",
    "df= create_df(events)\n",
    "df.head()"
   ]
  },
  {
   "cell_type": "code",
   "execution_count": 6,
   "id": "ea339cf8",
   "metadata": {},
   "outputs": [
    {
     "data": {
      "text/html": [
       "<div>\n",
       "<style scoped>\n",
       "    .dataframe tbody tr th:only-of-type {\n",
       "        vertical-align: middle;\n",
       "    }\n",
       "\n",
       "    .dataframe tbody tr th {\n",
       "        vertical-align: top;\n",
       "    }\n",
       "\n",
       "    .dataframe thead th {\n",
       "        text-align: right;\n",
       "    }\n",
       "</style>\n",
       "<table border=\"1\" class=\"dataframe\">\n",
       "  <thead>\n",
       "    <tr style=\"text-align: right;\">\n",
       "      <th></th>\n",
       "      <th>delay</th>\n",
       "      <th>value</th>\n",
       "      <th>name</th>\n",
       "    </tr>\n",
       "    <tr>\n",
       "      <th>eventID</th>\n",
       "      <th></th>\n",
       "      <th></th>\n",
       "      <th></th>\n",
       "    </tr>\n",
       "  </thead>\n",
       "  <tbody>\n",
       "    <tr>\n",
       "      <th>0</th>\n",
       "      <td>5.400453</td>\n",
       "      <td>3.539021</td>\n",
       "      <td>good ion</td>\n",
       "    </tr>\n",
       "    <tr>\n",
       "      <th>2</th>\n",
       "      <td>7.118253</td>\n",
       "      <td>2.415279</td>\n",
       "      <td>good ion</td>\n",
       "    </tr>\n",
       "    <tr>\n",
       "      <th>5</th>\n",
       "      <td>4.556469</td>\n",
       "      <td>3.667957</td>\n",
       "      <td>good ion</td>\n",
       "    </tr>\n",
       "  </tbody>\n",
       "</table>\n",
       "</div>"
      ],
      "text/plain": [
       "            delay     value      name\n",
       "eventID                              \n",
       "0        5.400453  3.539021  good ion\n",
       "2        7.118253  2.415279  good ion\n",
       "5        4.556469  3.667957  good ion"
      ]
     },
     "execution_count": 6,
     "metadata": {},
     "output_type": "execute_result"
    }
   ],
   "source": [
    "df[df.name == \"good ion\"][:3]  # sort by name"
   ]
  },
  {
   "cell_type": "code",
   "execution_count": 7,
   "id": "a4a7f94a",
   "metadata": {},
   "outputs": [
    {
     "data": {
      "image/png": "[encoded data removed]",
      "text/plain": [
       "<Figure size 432x288 with 1 Axes>"
      ]
     },
     "metadata": {
      "needs_background": "light"
     },
     "output_type": "display_data"
    }
   ],
   "source": [
    "plt.hist2d(df[df.name == \"good ion\"][\"delay\"],\n",
    "           df[df.name == \"good ion\"][\"value\"],\n",
    "           bins=[delay_bins, value_bins])\n",
    "plt.xlabel(\"delay\")\n",
    "plt.ylabel(\"value\")\n",
    "plt.show()"
   ]
  },
  {
   "cell_type": "markdown",
   "id": "171d890c",
   "metadata": {},
   "source": [
    "### normalize on events per delay bin "
   ]
  },
  {
   "cell_type": "code",
   "execution_count": 8,
   "id": "c9ee4ce4",
   "metadata": {},
   "outputs": [
    {
     "data": {
      "text/html": [
       "<div>\n",
       "<style scoped>\n",
       "    .dataframe tbody tr th:only-of-type {\n",
       "        vertical-align: middle;\n",
       "    }\n",
       "\n",
       "    .dataframe tbody tr th {\n",
       "        vertical-align: top;\n",
       "    }\n",
       "\n",
       "    .dataframe thead th {\n",
       "        text-align: right;\n",
       "    }\n",
       "</style>\n",
       "<table border=\"1\" class=\"dataframe\">\n",
       "  <thead>\n",
       "    <tr style=\"text-align: right;\">\n",
       "      <th></th>\n",
       "      <th>delay</th>\n",
       "      <th>value</th>\n",
       "      <th>name</th>\n",
       "      <th>delay_bin</th>\n",
       "      <th>weight</th>\n",
       "    </tr>\n",
       "    <tr>\n",
       "      <th>eventID</th>\n",
       "      <th></th>\n",
       "      <th></th>\n",
       "      <th></th>\n",
       "      <th></th>\n",
       "      <th></th>\n",
       "    </tr>\n",
       "  </thead>\n",
       "  <tbody>\n",
       "    <tr>\n",
       "      <th>0</th>\n",
       "      <td>5.400453</td>\n",
       "      <td>3.539021</td>\n",
       "      <td>good ion</td>\n",
       "      <td>5.0</td>\n",
       "      <td>0.000596</td>\n",
       "    </tr>\n",
       "    <tr>\n",
       "      <th>1</th>\n",
       "      <td>0.906677</td>\n",
       "      <td>1.048150</td>\n",
       "      <td>bad ion</td>\n",
       "      <td>1.0</td>\n",
       "      <td>0.000643</td>\n",
       "    </tr>\n",
       "    <tr>\n",
       "      <th>2</th>\n",
       "      <td>7.118253</td>\n",
       "      <td>2.415279</td>\n",
       "      <td>good ion</td>\n",
       "      <td>7.0</td>\n",
       "      <td>0.000655</td>\n",
       "    </tr>\n",
       "    <tr>\n",
       "      <th>3</th>\n",
       "      <td>4.146728</td>\n",
       "      <td>3.219579</td>\n",
       "      <td>bad ion</td>\n",
       "      <td>4.0</td>\n",
       "      <td>0.001025</td>\n",
       "    </tr>\n",
       "    <tr>\n",
       "      <th>4</th>\n",
       "      <td>0.914275</td>\n",
       "      <td>3.492466</td>\n",
       "      <td>evil ion</td>\n",
       "      <td>1.0</td>\n",
       "      <td>0.000643</td>\n",
       "    </tr>\n",
       "  </tbody>\n",
       "</table>\n",
       "</div>"
      ],
      "text/plain": [
       "            delay     value      name delay_bin    weight\n",
       "eventID                                                  \n",
       "0        5.400453  3.539021  good ion       5.0  0.000596\n",
       "1        0.906677  1.048150   bad ion       1.0  0.000643\n",
       "2        7.118253  2.415279  good ion       7.0  0.000655\n",
       "3        4.146728  3.219579   bad ion       4.0  0.001025\n",
       "4        0.914275  3.492466  evil ion       1.0  0.000643"
      ]
     },
     "execution_count": 8,
     "metadata": {},
     "output_type": "execute_result"
    },
    {
     "data": {
      "image/png": "[encoded data removed]",
      "text/plain": [
       "<Figure size 432x288 with 1 Axes>"
      ]
     },
     "metadata": {
      "needs_background": "light"
     },
     "output_type": "display_data"
    }
   ],
   "source": [
    "delay_labels = [(a+b)/2 for a,b in zip(delay_bins[:-1],delay_bins[1:])]\n",
    "\n",
    "df[\"delay_bin\"] = pd.cut(df[\"delay\"], bins=delay_bins, labels=delay_labels)\n",
    "events_per_delay_bin = df.groupby(df[\"delay_bin\"]).size()   \n",
    "df[\"weight\"] =  df['delay_bin'].apply(lambda x: 1./events_per_delay_bin[x])\n",
    "\n",
    "\n",
    "plt.hist2d(df[\"delay\"], df[\"value\"], bins=[delay_bins, value_bins], weights=df[\"weight\"])\n",
    "plt.xlabel(\"delay\")\n",
    "plt.ylabel(\"value\")\n",
    "\n",
    "df.head()"
   ]
  },
  {
   "cell_type": "code",
   "execution_count": null,
   "id": "7e68f8b6",
   "metadata": {},
   "outputs": [],
   "source": []
  }
 ],
 "metadata": {
  "kernelspec": {
   "display_name": "Python 3",
   "language": "python",
   "name": "python3"
  },
  "language_info": {
   "codemirror_mode": {
    "name": "ipython",
    "version": 3
   },
   "file_extension": ".py",
   "mimetype": "text/x-python",
   "name": "python",
   "nbconvert_exporter": "python",
   "pygments_lexer": "ipython3",
   "version": "3.8.8"
  }
 },
 "nbformat": 4,
 "nbformat_minor": 5
}
