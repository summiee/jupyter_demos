{
 "cells": [
  {
   "cell_type": "markdown",
   "metadata": {},
   "source": [
    "### Example: compound interest \n",
    "\n",
    "## $A = P (1 + \\frac{r}{n})^{nt}$\n",
    "\n",
    "+ A - amount\n",
    "+ P - principle\n",
    "+ r - interest rate\n",
    "+ n - number of times interest is compunded per unit 't'\n",
    "+ t - time\n"
   ]
  },
  {
   "cell_type": "code",
   "execution_count": 1,
   "metadata": {},
   "outputs": [],
   "source": [
    "import numpy as np  \n",
    "import plotly.graph_objects as go\n",
    "from plotly.subplots import make_subplots\n",
    "import ipywidgets as widgets\n",
    "from ipywidgets import interactive\n"
   ]
  },
  {
   "cell_type": "code",
   "execution_count": 2,
   "metadata": {},
   "outputs": [],
   "source": [
    "def compound_interest_with_saving_rate(start_value, saving_per_month, interest_rate, duration_years):\n",
    "    months = np.array(np.linspace(0, (12*duration_years), (12*duration_years)+1))\n",
    "    balance = np.array([(start_value+i*saving_per_month)*(1+interest_rate/12)**(i) for i in months])\n",
    "    principal = np.array([start_value + saving_per_month *i for i in months])\n",
    "    return months, balance, principal\n",
    "\n",
    "def visualize(start_value, saving_per_month, interest_rate, duration_years):\n",
    "    months, balance, principle = compound_interest_with_saving_rate(start_value, saving_per_month,\n",
    "                                                                    interest_rate, duration_years)\n",
    "    print(months[-1], balance[-1], principle[-1])\n",
    "    \n",
    "    fig = go.Figure()\n",
    "    fig.add_trace(go.Scatter(x=months/12, y=balance, name=\"balance\"))\n",
    "    fig.add_trace(go.Scatter(x=months/12,y=principle,name=\"principle\"))\n",
    "    fig.update_xaxes(title_text=\"<b>years</b>\")\n",
    "    fig.update_yaxes(title_text=\"<b>balance</b>\")\n",
    "    fig.show()\n",
    "    \n",
    "    fig = make_subplots(specs=[[{\"secondary_y\": True}]])\n",
    "    fig.add_trace(go.Scatter(x=months/12,y=balance-principle,name=\"interest\"),secondary_y=False, )\n",
    "    fig.add_trace(go.Scatter(x=months/12,y=principle/balance,name=\"ratio\"),secondary_y=True, )\n",
    "    fig.update_xaxes(title_text=\"<b>years</b>\")\n",
    "    fig.update_yaxes(title_text=\"<b>interest</b>\", secondary_y=False)\n",
    "    fig.update_yaxes(title_text=\"<b>ratio</b>\", secondary_y=True)\n",
    "    fig.show()\n"
   ]
  },
  {
   "cell_type": "code",
   "execution_count": 3,
   "metadata": {
    "scrolled": false
   },
   "outputs": [
    {
     "data": {
      "application/vnd.jupyter.widget-view+json": {
       "model_id": "b62ec9b810e84eae8697796db426ab8b",
       "version_major": 2,
       "version_minor": 0
      },
      "text/plain": [
       "interactive(children=(IntSlider(value=1000, description='start_value', max=10000, step=100), IntSlider(value=5…"
      ]
     },
     "metadata": {},
     "output_type": "display_data"
    }
   ],
   "source": [
    "interactive_plot = interactive(visualize,\n",
    "                               start_value=widgets.IntSlider(min=0, max=10000,step=100, value=1000),\n",
    "                               saving_per_month=widgets.IntSlider(min=0, max=1000,step=10, value=500),\n",
    "                               interest_rate=widgets.FloatSlider(min=-0.5,max=0.5, step=0.01,value=0.05),\n",
    "                               duration_years=widgets.IntSlider(min=0, max=50,step=1, value=10))\n",
    "interactive_plot"
   ]
  },
  {
   "cell_type": "code",
   "execution_count": null,
   "metadata": {},
   "outputs": [],
   "source": [
    "\n"
   ]
  },
  {
   "cell_type": "code",
   "execution_count": null,
   "metadata": {},
   "outputs": [],
   "source": []
  }
 ],
 "metadata": {
  "kernelspec": {
   "display_name": "test_plotting",
   "language": "python",
   "name": "test_plotting"
  },
  "language_info": {
   "codemirror_mode": {
    "name": "ipython",
    "version": 3
   },
   "file_extension": ".py",
   "mimetype": "text/x-python",
   "name": "python",
   "nbconvert_exporter": "python",
   "pygments_lexer": "ipython3",
   "version": "3.8.1"
  }
 },
 "nbformat": 4,
 "nbformat_minor": 2
}
