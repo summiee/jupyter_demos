{
 "cells": [
  {
   "cell_type": "markdown",
   "metadata": {},
   "source": [
    "# Updata a hdf5 dataset"
   ]
  },
  {
   "cell_type": "code",
   "execution_count": 46,
   "metadata": {},
   "outputs": [],
   "source": [
    "import h5py"
   ]
  },
  {
   "cell_type": "markdown",
   "metadata": {},
   "source": [
    "### create empty file and random data"
   ]
  },
  {
   "cell_type": "code",
   "execution_count": 47,
   "metadata": {},
   "outputs": [
    {
     "name": "stdout",
     "output_type": "stream",
     "text": [
      "[]\n",
      "ELSE\n"
     ]
    }
   ],
   "source": [
    "f = h5py.File(\"test.h5\", \"w\")\n",
    "\n",
    "x = list(range(10))"
   ]
  },
  {
   "cell_type": "markdown",
   "metadata": {},
   "source": [
    "### Dirty"
   ]
  },
  {
   "cell_type": "code",
   "execution_count": null,
   "metadata": {},
   "outputs": [],
   "source": [
    "with h5py.File(\"test.h5\", 'r+') as f:\n",
    "    try:\n",
    "        del f['centroided/tof_tw']\n",
    "    except:\n",
    "        pass\n",
    "    f['centroided/tof_tw'] = x\n"
   ]
  },
  {
   "cell_type": "markdown",
   "metadata": {},
   "source": [
    "### Cleaner\n",
    "* [visitor pattern](https://en.wikipedia.org/wiki/Visitor_pattern)"
   ]
  },
  {
   "cell_type": "code",
   "execution_count": null,
   "metadata": {},
   "outputs": [],
   "source": [
    "def find_dataset(name):\n",
    "    if 'centroided/tof_tw' in name:\n",
    "        return name\n",
    "\n",
    "with h5py.File(\"test.h5\", 'r+') as f:\n",
    "    if f.visit(find_dataset) == 'centroided/tof_tw':\n",
    "        del f['centroided/tof_tw']\n",
    "    f['centroided/tof_tw'] = x"
   ]
  }
 ],
 "metadata": {
  "kernelspec": {
   "display_name": "Python 3",
   "language": "python",
   "name": "python3"
  },
  "language_info": {
   "codemirror_mode": {
    "name": "ipython",
    "version": 3
   },
   "file_extension": ".py",
   "mimetype": "text/x-python",
   "name": "python",
   "nbconvert_exporter": "python",
   "pygments_lexer": "ipython3",
   "version": "3.7.3"
  }
 },
 "nbformat": 4,
 "nbformat_minor": 2
}
