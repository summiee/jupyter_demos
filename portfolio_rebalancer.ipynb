{
 "cells": [
  {
   "cell_type": "markdown",
   "id": "50206c3f",
   "metadata": {},
   "source": [
    "# Rebalancing\n"
   ]
  },
  {
   "cell_type": "code",
   "execution_count": 1,
   "id": "a5a4c177",
   "metadata": {},
   "outputs": [
    {
     "data": {
      "text/html": [
       "<div>\n",
       "<style scoped>\n",
       "    .dataframe tbody tr th:only-of-type {\n",
       "        vertical-align: middle;\n",
       "    }\n",
       "\n",
       "    .dataframe tbody tr th {\n",
       "        vertical-align: top;\n",
       "    }\n",
       "\n",
       "    .dataframe thead th {\n",
       "        text-align: right;\n",
       "    }\n",
       "</style>\n",
       "<table border=\"1\" class=\"dataframe\">\n",
       "  <thead>\n",
       "    <tr style=\"text-align: right;\">\n",
       "      <th></th>\n",
       "      <th>wanted alloc</th>\n",
       "      <th>current assets</th>\n",
       "      <th>current alloc</th>\n",
       "      <th>wanted assets</th>\n",
       "      <th>rebalancing</th>\n",
       "    </tr>\n",
       "  </thead>\n",
       "  <tbody>\n",
       "    <tr>\n",
       "      <th>A</th>\n",
       "      <td>0.5</td>\n",
       "      <td>123</td>\n",
       "      <td>0.55</td>\n",
       "      <td>1112.0</td>\n",
       "      <td>989.0</td>\n",
       "    </tr>\n",
       "    <tr>\n",
       "      <th>B</th>\n",
       "      <td>0.3</td>\n",
       "      <td>56</td>\n",
       "      <td>0.25</td>\n",
       "      <td>667.2</td>\n",
       "      <td>611.2</td>\n",
       "    </tr>\n",
       "    <tr>\n",
       "      <th>C</th>\n",
       "      <td>0.2</td>\n",
       "      <td>45</td>\n",
       "      <td>0.20</td>\n",
       "      <td>444.8</td>\n",
       "      <td>399.8</td>\n",
       "    </tr>\n",
       "  </tbody>\n",
       "</table>\n",
       "</div>"
      ],
      "text/plain": [
       "   wanted alloc  current assets  current alloc  wanted assets  rebalancing\n",
       "A           0.5             123           0.55         1112.0        989.0\n",
       "B           0.3              56           0.25          667.2        611.2\n",
       "C           0.2              45           0.20          444.8        399.8"
      ]
     },
     "execution_count": 1,
     "metadata": {},
     "output_type": "execute_result"
    }
   ],
   "source": [
    "import pandas as pd \n",
    "\n",
    "\n",
    "## inflow can be positiv, negative or zero\n",
    "inflow = 2000\n",
    "\n",
    "wanted_asset_alloc = {  # normalized\n",
    "    'A': 0.5,\n",
    "    'B': 0.3,\n",
    "    'C': 0.2,\n",
    "}\n",
    "\n",
    "current_assets = {  \n",
    "    'A': 123,\n",
    "    'B': 56,\n",
    "    'C': 45,\n",
    "}\n",
    "\n",
    "\n",
    "df = pd.DataFrame(index=wanted_asset_alloc.keys())\n",
    "df['wanted alloc'] = pd.Series(wanted_asset_alloc)\n",
    "df['current assets'] = pd.Series(current_assets)\n",
    "df['current alloc'] = df['current assets'] / df['current assets'].sum()\n",
    "df['wanted assets'] = df['wanted alloc'] * (df['current assets'].sum() + inflow)\n",
    "df['rebalancing'] = df['wanted assets'] - df['current assets']\n",
    "\n",
    "df.round(2)  # current alloc precise to percent"
   ]
  },
  {
   "cell_type": "code",
   "execution_count": null,
   "id": "ac3353fb",
   "metadata": {},
   "outputs": [],
   "source": []
  }
 ],
 "metadata": {
  "kernelspec": {
   "display_name": "Python 3 (ipykernel)",
   "language": "python",
   "name": "python3"
  },
  "language_info": {
   "codemirror_mode": {
    "name": "ipython",
    "version": 3
   },
   "file_extension": ".py",
   "mimetype": "text/x-python",
   "name": "python",
   "nbconvert_exporter": "python",
   "pygments_lexer": "ipython3",
   "version": "3.10.0"
  }
 },
 "nbformat": 4,
 "nbformat_minor": 5
}
