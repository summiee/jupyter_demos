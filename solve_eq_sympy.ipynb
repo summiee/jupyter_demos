{
 "cells": [
  {
   "cell_type": "markdown",
   "metadata": {},
   "source": [
    "### Solve Equations\n",
    "\n",
    "* fit time-of-flight to mass spectrum\n",
    "\n",
    "$ \\text{time} = k \\sqrt{\\frac{\\text{mass}}{\\text{charge}}} + \\text{offset}$\n",
    "\n",
    "* numeric approx.:\n",
    "\n",
    "$ \\frac{\\text{mass}}{\\text{charge}} = (c_1 \\text{time} + c_2 )^2 $"
   ]
  },
  {
   "cell_type": "code",
   "execution_count": 1,
   "metadata": {},
   "outputs": [],
   "source": [
    "import numpy as np\n",
    "import matplotlib.pyplot as plt\n",
    "\n",
    "from sympy.solvers import solve\n",
    "from sympy import symbols, Eq\n",
    "\n"
   ]
  },
  {
   "cell_type": "code",
   "execution_count": 2,
   "metadata": {},
   "outputs": [],
   "source": [
    "m1, tof1 = 198, 13.0184     \n",
    "m2, tof2 = 71, 8.18377 "
   ]
  },
  {
   "cell_type": "code",
   "execution_count": 3,
   "metadata": {},
   "outputs": [
    {
     "data": {
      "text/plain": [
       "[(-4.65338548195968, 46.5083862788736),\n",
       " (-1.16763795911868, 1.12953072752030),\n",
       " (1.16763795911868, -1.12953072752030),\n",
       " (4.65338548195968, -46.5083862788736)]"
      ]
     },
     "execution_count": 3,
     "metadata": {},
     "output_type": "execute_result"
    }
   ],
   "source": [
    "c1, c2 = symbols('c1,c2')\n",
    "\n",
    "eq1 = Eq(m1,(c1*tof1+c2)**2)\n",
    "eq2 = Eq(m2,(c1*tof2+c2)**2)\n",
    "\n",
    "solutions = solve((eq1 , eq2) ,c1,c2)\n",
    "         \n",
    "solutions"
   ]
  },
  {
   "cell_type": "code",
   "execution_count": 4,
   "metadata": {},
   "outputs": [
    {
     "data": {
      "text/plain": [
       "[<matplotlib.lines.Line2D at 0x2acf9491de90>]"
      ]
     },
     "execution_count": 4,
     "metadata": {},
     "output_type": "execute_result"
    },
    {
     "data": {
      "image/png": "[encoded data removed]",
      "text/plain": [
       "<Figure size 432x288 with 1 Axes>"
      ]
     },
     "metadata": {
      "needs_background": "light"
     },
     "output_type": "display_data"
    }
   ],
   "source": [
    "c1, c2 = [each for each in solutions if abs(each[0]) > abs(each[1])][0]\n",
    "\n",
    "x = np.arange(start= 0, stop=200, step=1)\n",
    "y = (c1 * x + c2)**2\n",
    "\n",
    "plt.plot(x,y)"
   ]
  },
  {
   "cell_type": "code",
   "execution_count": null,
   "metadata": {},
   "outputs": [],
   "source": []
  }
 ],
 "metadata": {
  "kernelspec": {
   "display_name": "CAMP",
   "language": "python",
   "name": "camp"
  },
  "language_info": {
   "codemirror_mode": {
    "name": "ipython",
    "version": 3
   },
   "file_extension": ".py",
   "mimetype": "text/x-python",
   "name": "python",
   "nbconvert_exporter": "python",
   "pygments_lexer": "ipython3",
   "version": "3.7.6"
  }
 },
 "nbformat": 4,
 "nbformat_minor": 4
}
