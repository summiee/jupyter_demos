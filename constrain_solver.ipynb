{
 "cells": [
  {
   "cell_type": "markdown",
   "metadata": {},
   "source": [
    "# Constraint Solving Problems\n",
    "\n",
    "python-constraint is a module implementing support for handling CSPs (Constraint Solving Problems) over finite domain\n",
    "\n",
    "\n",
    "Features\n",
    "\n",
    "The following solvers are available:\n",
    "\n",
    "    Backtracking solver\n",
    "    Recursive backtracking solver\n",
    "    Minimum conflicts solver\n",
    "\n",
    "Predefined constraint types currently available:\n",
    "\n",
    "    FunctionConstraint\n",
    "    AllDifferentConstraint\n",
    "    AllEqualConstraint\n",
    "    ExactSumConstraint\n",
    "    MaxSumConstraint\n",
    "    MinSumConstraint\n",
    "    InSetConstraint\n",
    "    NotInSetConstraint\n",
    "    SomeInSetConstraint\n",
    "    SomeNotInSetConstraint\n",
    "\n",
    "API documentation\n",
    "\n",
    "Documentation for the module is available at: http://labix.org/doc/constraint/\n"
   ]
  },
  {
   "cell_type": "code",
   "execution_count": 1,
   "metadata": {},
   "outputs": [],
   "source": [
    "from constraint import *\n",
    "\n"
   ]
  },
  {
   "cell_type": "code",
   "execution_count": 2,
   "metadata": {},
   "outputs": [
    {
     "data": {
      "text/plain": [
       "[{'a': 3, 'b': 6},\n",
       " {'a': 3, 'b': 5},\n",
       " {'a': 3, 'b': 4},\n",
       " {'a': 2, 'b': 6},\n",
       " {'a': 2, 'b': 5},\n",
       " {'a': 2, 'b': 4},\n",
       " {'a': 1, 'b': 6},\n",
       " {'a': 1, 'b': 5},\n",
       " {'a': 1, 'b': 4}]"
      ]
     },
     "execution_count": 2,
     "metadata": {},
     "output_type": "execute_result"
    }
   ],
   "source": [
    "problem = Problem()\n",
    "\n",
    "problem.addVariable(\"a\", [1,2,3])\n",
    "problem.addVariable(\"b\", [4,5,6])\n",
    "\n",
    "problem.getSolutions()"
   ]
  },
  {
   "cell_type": "code",
   "execution_count": 3,
   "metadata": {},
   "outputs": [
    {
     "data": {
      "text/plain": [
       "[{'a': 3, 'b': 6}, {'a': 2, 'b': 4}]"
      ]
     },
     "execution_count": 3,
     "metadata": {},
     "output_type": "execute_result"
    }
   ],
   "source": [
    "problem.addConstraint(lambda a, b: a*2 == b, (\"a\", \"b\"))\n",
    "\n",
    "problem.getSolutions()"
   ]
  },
  {
   "cell_type": "code",
   "execution_count": 4,
   "metadata": {},
   "outputs": [
    {
     "data": {
      "text/plain": [
       "[{'a': 3, 'b': 2},\n",
       " {'a': 3, 'b': 1},\n",
       " {'a': 2, 'b': 3},\n",
       " {'a': 2, 'b': 1},\n",
       " {'a': 1, 'b': 2},\n",
       " {'a': 1, 'b': 3}]"
      ]
     },
     "execution_count": 4,
     "metadata": {},
     "output_type": "execute_result"
    }
   ],
   "source": [
    "problem = Problem()\n",
    "\n",
    "problem.addVariables([\"a\", \"b\"], [1, 2, 3])\n",
    "problem.addConstraint(AllDifferentConstraint())\n",
    "problem.getSolutions()"
   ]
  },
  {
   "cell_type": "markdown",
   "metadata": {},
   "source": [
    "### Eight rooks problem"
   ]
  },
  {
   "cell_type": "code",
   "execution_count": 5,
   "metadata": {},
   "outputs": [
    {
     "name": "stdout",
     "output_type": "stream",
     "text": [
      "number of solutions: 40320\n",
      "first solution: {0: 7, 1: 6, 2: 5, 3: 4, 4: 3, 5: 2, 6: 1, 7: 0}\n",
      "CPU times: user 1.35 s, sys: 16 ms, total: 1.37 s\n",
      "Wall time: 1.37 s\n"
     ]
    }
   ],
   "source": [
    "%%time\n",
    "\n",
    "problem = Problem()\n",
    "\n",
    "numpieces = 8\n",
    "cols = range(numpieces)\n",
    "rows = range(numpieces)\n",
    "problem.addVariables(cols, rows)\n",
    "\n",
    "for col1 in cols:\n",
    "    for col2 in cols:\n",
    "        if col1 < col2:\n",
    "            problem.addConstraint(lambda row1, row2: row1 != row2, (col1, col2))\n",
    "\n",
    "solutions = problem.getSolutions()\n",
    "\n",
    "print(f'number of solutions: {len(solutions)}')\n",
    "print(f'first solution: {solutions[0]}')"
   ]
  },
  {
   "cell_type": "markdown",
   "metadata": {},
   "source": [
    "### Magic squares"
   ]
  },
  {
   "cell_type": "code",
   "execution_count": 6,
   "metadata": {},
   "outputs": [
    {
     "name": "stdout",
     "output_type": "stream",
     "text": [
      "number of solutions: 7040\n",
      "first solution: {0: 16, 3: 13, 5: 11, 10: 5, 15: 2, 6: 10, 9: 8, 12: 3, 1: 1, 2: 4, 4: 6, 7: 7, 8: 9, 11: 12, 13: 14, 14: 15}\n",
      "CPU times: user 13min 44s, sys: 148 ms, total: 13min 44s\n",
      "Wall time: 13min 44s\n"
     ]
    }
   ],
   "source": [
    "%%time\n",
    "\n",
    "problem = Problem()\n",
    "\n",
    "problem.addVariables(range(0, 16), range(1, 16 + 1))\n",
    "problem.addConstraint(AllDifferentConstraint(), range(0, 16))\n",
    "problem.addConstraint(ExactSumConstraint(34), [0, 5, 10, 15])\n",
    "problem.addConstraint(ExactSumConstraint(34), [3, 6, 9, 12])\n",
    "\n",
    "for row in range(4):\n",
    "    problem.addConstraint(ExactSumConstraint(34), [row * 4 + i for i in range(4)])\n",
    "    \n",
    "for col in range(4):\n",
    "    problem.addConstraint(ExactSumConstraint(34), [col + 4 * i for i in range(4)])\n",
    "    \n",
    "solutions = problem.getSolutions()\n",
    "\n",
    "print(f'number of solutions: {len(solutions)}')\n",
    "print(f'first solution: {solutions[0]}')"
   ]
  },
  {
   "cell_type": "code",
   "execution_count": null,
   "metadata": {},
   "outputs": [],
   "source": []
  }
 ],
 "metadata": {
  "kernelspec": {
   "display_name": "Python 3",
   "language": "python",
   "name": "python3"
  },
  "language_info": {
   "codemirror_mode": {
    "name": "ipython",
    "version": 3
   },
   "file_extension": ".py",
   "mimetype": "text/x-python",
   "name": "python",
   "nbconvert_exporter": "python",
   "pygments_lexer": "ipython3",
   "version": "3.7.3"
  }
 },
 "nbformat": 4,
 "nbformat_minor": 4
}
