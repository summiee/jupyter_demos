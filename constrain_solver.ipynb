{
 "cells": [
  {
   "cell_type": "markdown",
   "metadata": {},
   "source": [
    "# Constraint Solving Problems\n",
    "\n",
    "python-constraint is a module implementing support for handling CSPs (Constraint Solving Problems) over finite domain\n",
    "\n",
    "\n",
    "Features\n",
    "\n",
    "The following solvers are available:\n",
    "\n",
    "    Backtracking solver\n",
    "    Recursive backtracking solver\n",
    "    Minimum conflicts solver\n",
    "\n",
    "Predefined constraint types currently available:\n",
    "\n",
    "    FunctionConstraint\n",
    "    AllDifferentConstraint\n",
    "    AllEqualConstraint\n",
    "    ExactSumConstraint\n",
    "    MaxSumConstraint\n",
    "    MinSumConstraint\n",
    "    InSetConstraint\n",
    "    NotInSetConstraint\n",
    "    SomeInSetConstraint\n",
    "    SomeNotInSetConstraint\n",
    "\n",
    "API documentation\n",
    "\n",
    "Documentation for the module is available at: http://labix.org/doc/constraint/\n"
   ]
  },
  {
   "cell_type": "code",
   "execution_count": 1,
   "metadata": {},
   "outputs": [],
   "source": [
    "from constraint import *\n"
   ]
  },
  {
   "cell_type": "code",
   "execution_count": 2,
   "metadata": {},
   "outputs": [
    {
     "data": {
      "text/plain": [
       "[{'a': 3, 'b': 6},\n",
       " {'a': 3, 'b': 5},\n",
       " {'a': 3, 'b': 4},\n",
       " {'a': 2, 'b': 6},\n",
       " {'a': 2, 'b': 5},\n",
       " {'a': 2, 'b': 4},\n",
       " {'a': 1, 'b': 6},\n",
       " {'a': 1, 'b': 5},\n",
       " {'a': 1, 'b': 4}]"
      ]
     },
     "execution_count": 2,
     "metadata": {},
     "output_type": "execute_result"
    }
   ],
   "source": [
    "problem = Problem()\n",
    "\n",
    "problem.addVariable(\"a\", [1,2,3])\n",
    "problem.addVariable(\"b\", [4,5,6])\n",
    "\n",
    "problem.getSolutions()"
   ]
  },
  {
   "cell_type": "code",
   "execution_count": 3,
   "metadata": {},
   "outputs": [
    {
     "data": {
      "text/plain": [
       "[{'a': 3, 'b': 6}, {'a': 2, 'b': 4}]"
      ]
     },
     "execution_count": 3,
     "metadata": {},
     "output_type": "execute_result"
    }
   ],
   "source": [
    "problem.addConstraint(lambda a, b: a*2 == b, (\"a\", \"b\"))\n",
    "\n",
    "problem.getSolutions()"
   ]
  },
  {
   "cell_type": "code",
   "execution_count": 4,
   "metadata": {},
   "outputs": [
    {
     "data": {
      "text/plain": [
       "[{'a': 3, 'b': 2},\n",
       " {'a': 3, 'b': 1},\n",
       " {'a': 2, 'b': 3},\n",
       " {'a': 2, 'b': 1},\n",
       " {'a': 1, 'b': 2},\n",
       " {'a': 1, 'b': 3}]"
      ]
     },
     "execution_count": 4,
     "metadata": {},
     "output_type": "execute_result"
    }
   ],
   "source": [
    "problem = Problem()\n",
    "\n",
    "problem.addVariables([\"a\", \"b\"], [1, 2, 3])\n",
    "problem.addConstraint(AllDifferentConstraint())\n",
    "problem.getSolutions()"
   ]
  },
  {
   "cell_type": "markdown",
   "metadata": {},
   "source": [
    "### Eight rooks problem"
   ]
  },
  {
   "cell_type": "code",
   "execution_count": 5,
   "metadata": {},
   "outputs": [
    {
     "name": "stdout",
     "output_type": "stream",
     "text": [
      "number of solutions: 40320\n",
      "first solution: {0: 7, 1: 6, 2: 5, 3: 4, 4: 3, 5: 2, 6: 1, 7: 0}\n",
      "CPU times: user 1.52 s, sys: 12.9 ms, total: 1.53 s\n",
      "Wall time: 1.53 s\n"
     ]
    }
   ],
   "source": [
    "%%time\n",
    "\n",
    "problem = Problem()\n",
    "\n",
    "numpieces = 8\n",
    "cols = range(numpieces)\n",
    "rows = range(numpieces)\n",
    "problem.addVariables(cols, rows)\n",
    "\n",
    "for col1 in cols:\n",
    "    for col2 in cols:\n",
    "        if col1 < col2:\n",
    "            problem.addConstraint(lambda row1, row2: row1 != row2, (col1, col2))\n",
    "\n",
    "solutions = problem.getSolutions()\n",
    "\n",
    "print(f'number of solutions: {len(solutions)}')\n",
    "print(f'first solution: {solutions[0]}')"
   ]
  },
  {
   "cell_type": "markdown",
   "metadata": {},
   "source": [
    "### Magic squares"
   ]
  },
  {
   "cell_type": "code",
   "execution_count": 6,
   "metadata": {},
   "outputs": [
    {
     "name": "stdout",
     "output_type": "stream",
     "text": [
      "number of solutions: 7040\n",
      "first solution: {0: 16, 3: 13, 5: 11, 10: 5, 15: 2, 6: 10, 9: 8, 12: 3, 1: 1, 2: 4, 4: 6, 7: 7, 8: 9, 11: 12, 13: 14, 14: 15}\n",
      "CPU times: user 14min 51s, sys: 58.1 ms, total: 14min 51s\n",
      "Wall time: 14min 51s\n"
     ]
    }
   ],
   "source": [
    "%%time\n",
    "\n",
    "problem = Problem()\n",
    "\n",
    "problem.addVariables(range(0, 16), range(1, 16 + 1))\n",
    "problem.addConstraint(AllDifferentConstraint(), range(0, 16))\n",
    "problem.addConstraint(ExactSumConstraint(34), [0, 5, 10, 15])\n",
    "problem.addConstraint(ExactSumConstraint(34), [3, 6, 9, 12])\n",
    "\n",
    "for row in range(4):\n",
    "    problem.addConstraint(ExactSumConstraint(34), [row * 4 + i for i in range(4)])\n",
    "    \n",
    "for col in range(4):\n",
    "    problem.addConstraint(ExactSumConstraint(34), [col + 4 * i for i in range(4)])\n",
    "    \n",
    "solutions = problem.getSolutions()\n",
    "\n",
    "print(f'number of solutions: {len(solutions)}')\n",
    "print(f'first solution: {solutions[0]}')"
   ]
  },
  {
   "cell_type": "markdown",
   "metadata": {},
   "source": [
    "#  More examples\n",
    "https://stackabuse.com/constraint-programming-with-python-constraint/\n",
    "\n",
    "* import constraint\n",
    "* define a variable as our problem\n",
    "* add variables and their respective intervals to our problem\n",
    "* add built-in/custom constraints to our problem\n",
    "* fetch the solutions\n",
    "* go through the solutions to find the ones we need\n",
    "\n",
    "List of Built-in Constraints:\n",
    "\n",
    "http://labix.org/doc/constraint/\n"
   ]
  },
  {
   "cell_type": "markdown",
   "metadata": {},
   "source": [
    "### A\n",
    "\n",
    "Find all (x,y) where x ∈ {1,2,3} and 0 <= y < 10, and x + y >= 5"
   ]
  },
  {
   "cell_type": "code",
   "execution_count": 7,
   "metadata": {},
   "outputs": [
    {
     "name": "stdout",
     "output_type": "stream",
     "text": [
      "number of solutions: 21 \n",
      "e.g. {'x': 3, 'y': 9} \n",
      "\n"
     ]
    }
   ],
   "source": [
    "problem = Problem()\n",
    "\n",
    "problem.addVariable('x', [1,2,3])            # single variable\n",
    "problem.addVariable('y', range(10))\n",
    "\n",
    "def our_constraint(x, y):\n",
    "    if x + y >= 5:\n",
    "        return True\n",
    "\n",
    "problem.addConstraint(our_constraint, ['x','y'])\n",
    "# problem.addConstraint(lambda x,y :x + y >= 5, ['x','y'])  # also possible via lambda function\n",
    "\n",
    "# problem.addConstraint(AllDifferentConstraint()) # addtionally, x /= y\n",
    "\n",
    "solutions = problem.getSolutions()\n",
    "\n",
    "print(f\"number of solutions: {len(solutions)} \\ne.g. {solutions[0]} \\n\")"
   ]
  },
  {
   "cell_type": "markdown",
   "metadata": {},
   "source": [
    "### B \n",
    "(cryptarithmetic puzzle)\n",
    "\n",
    "TWO +  TWO = FOUR"
   ]
  },
  {
   "cell_type": "code",
   "execution_count": 8,
   "metadata": {},
   "outputs": [
    {
     "name": "stdout",
     "output_type": "stream",
     "text": [
      "Number of solutions found: 7\n",
      "\n",
      "T = 7, W = 6, O = 5, F = 1, U = 3, R = 0\n",
      "T = 7, W = 3, O = 4, F = 1, U = 6, R = 8\n",
      "T = 8, W = 6, O = 7, F = 1, U = 3, R = 4\n",
      "T = 8, W = 4, O = 6, F = 1, U = 9, R = 2\n",
      "T = 8, W = 3, O = 6, F = 1, U = 7, R = 2\n",
      "T = 9, W = 2, O = 8, F = 1, U = 5, R = 6\n",
      "T = 9, W = 3, O = 8, F = 1, U = 7, R = 6\n"
     ]
    }
   ],
   "source": [
    "problem = Problem()\n",
    "\n",
    "problem.addVariables(\"TF\", range(1, 10))        # multiple variables\n",
    "problem.addVariables(\"WOUR\", range(10))         # strings = arrays of chars\n",
    "\n",
    "def sum_constraint(t, w, o, f, u, r):\n",
    "    if 2*(t*100 + w*10 + o) == f*1000 + o*100 + u*10 + r:\n",
    "        return True\n",
    "\n",
    "problem.addConstraint(sum_constraint, \"TWOFUR\")              # order of variables is important\n",
    "problem.addConstraint(AllDifferentConstraint())\n",
    "\n",
    "solutions = problem.getSolutions()\n",
    "\n",
    "print(f\"Number of solutions found: {len(solutions)}\\n\")\n",
    "for s in solutions:\n",
    "    print(f\"T = {s['T']}, W = {s['W']}, O = {s['O']}, F = {s['F']}, U = {s['U']}, R = {s['R']}\")\n"
   ]
  },
  {
   "cell_type": "markdown",
   "metadata": {},
   "source": [
    "### C \n",
    "\n",
    "You recently got a job as a cashier. You're trying to convince your friend that it's hard work, there are just SO many ways to give someone their change back! Your \"friend\" shakes his head, obviously not believing you. He says \"It can't be that bad. How many ways can there POSSIBLY be to give someone their change back, for like 60 cents?\".\n",
    "\n",
    "Your response is, of course, to sit and quickly write a program that would prove your point. You have a decent amount of pennies (1 cent), nickels (5 cents), dimes (10 cents) and quarters (25 cents), and a lot of kinda suspicious coins worth 3 cents each. Calculate in how many ways you can return change for 60 cents."
   ]
  },
  {
   "cell_type": "code",
   "execution_count": 9,
   "metadata": {},
   "outputs": [
    {
     "name": "stdout",
     "output_type": "stream",
     "text": [
      "number of solutions: 535\n",
      "e.g.:\n",
      "\n",
      "20 cent : 3\n",
      "1 cent : 0\n",
      "10 cent : 0\n",
      "3 cent : 0\n",
      "5 cent : 0\n",
      "\n",
      "20 cent : 2\n",
      "10 cent : 2\n",
      "1 cent : 0\n",
      "3 cent : 0\n",
      "5 cent : 0\n",
      "\n"
     ]
    }
   ],
   "source": [
    "problem = Problem()\n",
    "\n",
    "problem.addVariable(\"1 cent\", range(61))   # The maximum amount of each coin  can't be more than 60\n",
    "problem.addVariable(\"3 cent\", range(21))\n",
    "problem.addVariable(\"5 cent\", range(13))\n",
    "problem.addVariable(\"10 cent\", range(7))\n",
    "problem.addVariable(\"20 cent\", range(4))\n",
    "\n",
    "problem.addConstraint(                                    # explicit order of weights\n",
    "    ExactSumConstraint(60,[1,3,5,10,20]),\n",
    "    [\"1 cent\", \"3 cent\", \"5 cent\",\"10 cent\", \"20 cent\"]) \n",
    "\n",
    "\n",
    "solutions = problem.getSolutions()\n",
    "print(f\"number of solutions: {len(solutions)}\\ne.g.:\\n\")\n",
    "\n",
    "def print_solutions(solutions):\n",
    "    for solution in solutions:\n",
    "        [print(f\"{key} : {value}\") for key, value in solution.items()]\n",
    "        print(\"\")\n",
    "\n",
    "print_solutions(solutions[:2])"
   ]
  },
  {
   "cell_type": "markdown",
   "metadata": {},
   "source": [
    "### D\n",
    "(cryptarithmetic puzzle)\n",
    "\n",
    "CRASH + ERROR + REBOOT = HACKER"
   ]
  },
  {
   "cell_type": "code",
   "execution_count": 10,
   "metadata": {},
   "outputs": [
    {
     "name": "stdout",
     "output_type": "stream",
     "text": [
      "Number of solutions found: 1\n",
      "\n",
      "[{'C': 8, 'E': 2, 'H': 6, 'R': 5, 'A': 3, 'B': 7, 'K': 0, 'O': 1, 'S': 9, 'T': 4}]\n",
      "CPU times: user 41.7 s, sys: 0 ns, total: 41.7 s\n",
      "Wall time: 41.7 s\n"
     ]
    }
   ],
   "source": [
    "%%time\n",
    "\n",
    "problem = Problem()\n",
    "\n",
    "problem.addVariables(\"CERH\", range(1, 10))        \n",
    "problem.addVariables(\"ASOBTK\", range(10))        \n",
    "\n",
    "def sum_constraint(c,r,a,s,h,e,o,b,t,k):\n",
    "    if ((c*10000 + r*1000 + a*100 + s*10 + h) + \n",
    "    (e*10000 + r*1000 + r*100 + o*10 + r) +\n",
    "    (r*100000 + e*10000 + b*1000 + o*100 + o*10 + t)) == h*100000 + a*10000 + c*1000 + k*100 + e*10 + r:\n",
    "        return True\n",
    "\n",
    "problem.addConstraint(sum_constraint, \"CRASHEOBTK\")              # order of variables is important\n",
    "problem.addConstraint(AllDifferentConstraint())\n",
    "\n",
    "solutions = problem.getSolutions()\n",
    "\n",
    "print(f\"Number of solutions found: {len(solutions)}\\n\")\n",
    "print(solutions)"
   ]
  },
  {
   "cell_type": "markdown",
   "metadata": {},
   "source": [
    "## E \n",
    "\n",
    "You wish to pack chocolates for your mother. Luckily you work in a chocolate factory that has a lot of leftover chocolate. You have a few chocolate types at your disposal.\n",
    "\n",
    "Your goal is to bring her the sweetest chocolate possible, that you can pack in your bag and sneak through security, and that wouldn't pass a certain net value for which you'd go to prison if you got caught.\n",
    "\n",
    "Security most likely won't get suspicious if you bring less than 3kg. You can fit 1 dm^3 of chocolate in your bag. You won't go to jail if you steal less than $300 worth of chocolate.\n",
    "\n",
    "\n",
    "| chocolate Name | Weight (g) | Dimensions (cm) | Sweetness | Value ($) |\n",
    "|---------------|------------|-----------------|-----------|-----------|\n",
    "| Chocolate A   | 100        | 8 × 2.5 × 0.5   | 20        | 8         |\n",
    "| Chocolate B   | 45         | 7 × 2 × 0.5     | 16        | 6.8       |\n",
    "| Chocolate C   | 10         | 3 × 2 × 0.5     | 9         | 4         |\n",
    "| Chocolate D   | 25         | 3 × 3 × 0.5     | 7         | 3         |"
   ]
  },
  {
   "cell_type": "code",
   "execution_count": 11,
   "metadata": {},
   "outputs": [
    {
     "name": "stdout",
     "output_type": "stream",
     "text": [
      "\n",
      "The maximum sweetness we can bring is: 730\n",
      "We'll bring:\n",
      "27 A Chocolates,\n",
      "2 B Chocolates,\n",
      "2 C Chocolates,\n",
      "2 D Chocolates.\n",
      "\n",
      "CPU times: user 22.3 s, sys: 34 ms, total: 22.4 s\n",
      "Wall time: 22.4 s\n"
     ]
    }
   ],
   "source": [
    "%%time\n",
    "\n",
    "problem = Problem()\n",
    "\n",
    "problem.addVariable(\"A\", range(31))   # min of 3 maxs(weight, volume, value) \n",
    "problem.addVariable(\"B\", range(45))\n",
    "problem.addVariable(\"C\", range(76))\n",
    "problem.addVariable(\"D\", range(101))\n",
    "\n",
    "def weight_constraint(a, b, c, d):\n",
    "    if (a*100 + b*45 + c*10 + d*25) <= 3000:\n",
    "        return True\n",
    "\n",
    "def volume_constraint(a, b, c, d):\n",
    "    if (a*8*2.5*0.5 + b*7*2*0.5 * c*3*2*0.5 + d*3*3*0.5) <= 1000:\n",
    "        return True\n",
    "\n",
    "def value_constraint(a, b, c, d):\n",
    "    if (a*8 + b*6.8 + c*4 + d*3) < 300:\n",
    "        return True\n",
    "    \n",
    "problem.addConstraint(weight_constraint, \"ABCD\")\n",
    "problem.addConstraint(volume_constraint, \"ABCD\")\n",
    "problem.addConstraint(value_constraint, \"ABCD\")\n",
    "\n",
    "maximum_sweetness = 0\n",
    "solution_found = {}\n",
    "solutions = problem.getSolutions()\n",
    "\n",
    "for s in solutions:\n",
    "    current_sweetness = s['A']*20 + s['B']*16 + s['C']*9 + s['D']*7\n",
    "    if current_sweetness > maximum_sweetness:\n",
    "        maximum_sweetness = current_sweetness\n",
    "        solution_found = s\n",
    "\n",
    "print(f\"\"\"\n",
    "The maximum sweetness we can bring is: {maximum_sweetness}\n",
    "We'll bring:\n",
    "{solution_found['A']} A Chocolates,\n",
    "{solution_found['B']} B Chocolates,\n",
    "{solution_found['B']} C Chocolates,\n",
    "{solution_found['B']} D Chocolates.\\n\"\"\")\n"
   ]
  },
  {
   "cell_type": "markdown",
   "metadata": {},
   "source": [
    "## Example:  Schedule\n",
    "\n",
    "* getSolution(self) -> get a solution as Dict\n",
    "* getSolution**s**(self) -> get all solutions as List of Dicts"
   ]
  },
  {
   "cell_type": "code",
   "execution_count": 12,
   "metadata": {},
   "outputs": [],
   "source": [
    "def pprint(solution):\n",
    "    \"\"\" Pretty Printer for Schedule\"\"\" \n",
    "    for key, value in sorted(solution.items(), key=lambda item:item[1]):\n",
    "        print(f\"{value} : {key}\")\n",
    "        "
   ]
  },
  {
   "cell_type": "code",
   "execution_count": 13,
   "metadata": {},
   "outputs": [
    {
     "name": "stdout",
     "output_type": "stream",
     "text": [
      "number of solutions: 7488\n",
      "e.g.:\n",
      "\n",
      "1 : berta\n",
      "2 : gustav\n",
      "3 : caesar\n",
      "4 : emil\n",
      "5 : anton\n",
      "6 : dora\n",
      "7 : julius\n",
      "8 : heinrich\n",
      "9 : ida\n",
      "10 : friedrich\n"
     ]
    }
   ],
   "source": [
    "n_postions = 10\n",
    "postions = list(range(1,n_postions+1))\n",
    "\n",
    "list_of_participants = [\"anton\", \"berta\", \"caesar\", \"dora\", \"emil\",\n",
    "                        \"friedrich\", \"gustav\", \"heinrich\", \"ida\", \"julius\"]\n",
    "\n",
    "problem = Problem()\n",
    "\n",
    "problem.addVariables(list_of_participants, postions)\n",
    "problem.addConstraint(AllDifferentConstraint())\n",
    "\n",
    "problem.addConstraint(lambda x: x==5, ['anton'])            # at position\n",
    "problem.addConstraint(lambda x: x!=6, ['caesar'])           # not at position\n",
    "problem.addConstraint(lambda x: x<5, ['berta'])             # earlier\n",
    "problem.addConstraint(lambda x: x>5, ['dora'])              # later\n",
    "\n",
    "problem.addConstraint(lambda x, y: x>y, ['heinrich', 'julius'])               # frist arg after second arg\n",
    "problem.addConstraint(lambda x, y: x==y+1 or y==x+1, ['ida', 'friedrich'])    # args consecutively\n",
    "problem.addConstraint(lambda x, y: x>y+1 or y>x+1, ['gustav', 'friedrich'])   # args not consecutively\n",
    "\n",
    "print(f\"number of solutions: {len(problem.getSolutions())}\\ne.g.:\\n\")\n",
    "pprint(problem.getSolution())"
   ]
  },
  {
   "cell_type": "markdown",
   "metadata": {},
   "source": [
    "### 2 parallel schedules with interferences "
   ]
  },
  {
   "cell_type": "code",
   "execution_count": 14,
   "metadata": {},
   "outputs": [],
   "source": [
    "def pprint_2(solution):\n",
    "    \"\"\" Pretty Printer for 2 Schedules\"\"\" \n",
    "    i = 0\n",
    "    print(\"Schedule #1\")\n",
    "    for key, value in sorted(solution.items(), key=lambda item:item[1]):\n",
    "        if (value % 100) < i:\n",
    "            print(\"\\nSchedule #2\")\n",
    "        i = value % 100\n",
    "        print(f\"{i} : {key}\")"
   ]
  },
  {
   "cell_type": "code",
   "execution_count": 15,
   "metadata": {},
   "outputs": [
    {
     "name": "stdout",
     "output_type": "stream",
     "text": [
      "Schedule #1\n",
      "1 : julius\n",
      "2 : ida\n",
      "3 : heinrich\n",
      "4 : gustav\n",
      "5 : friedrich\n",
      "6 : emil\n",
      "7 : dora\n",
      "8 : caesar\n",
      "9 : berta\n",
      "10 : anton\n",
      "\n",
      "Schedule #2\n",
      "1 : theodor\n",
      "2 : samuel\n",
      "3 : richard\n",
      "4 : quelle\n",
      "5 : paula\n",
      "6 : otto\n",
      "7 : nordpol\n",
      "8 : martha\n",
      "9 : ludiwig\n",
      "10 : kaufmann\n",
      "CPU times: user 893 µs, sys: 0 ns, total: 893 µs\n",
      "Wall time: 803 µs\n"
     ]
    }
   ],
   "source": [
    "%%time\n",
    "\n",
    "n_postions = 10\n",
    "postions_1 = list(range(100,n_postions+101))\n",
    "postions_2 = list(range(200,n_postions+201))\n",
    "\n",
    "list_of_participants_1 = [\"anton\", \"berta\", \"caesar\", \"dora\", \"emil\",\n",
    "                         \"friedrich\", \"gustav\", \"heinrich\", \"ida\", \"julius\"]\n",
    "list_of_participants_2 = [\"kaufmann\", \"ludiwig\", \"martha\", \"nordpol\", \"otto\",\n",
    "                          \"paula\", \"quelle\", \"richard\", \"samuel\", \"theodor\"]\n",
    "\n",
    "problem = Problem()\n",
    "problem.addVariables(list_of_participants_1, postions_1)\n",
    "problem.addVariables(list_of_participants_2, postions_2)\n",
    "\n",
    "problem.addConstraint(AllDifferentConstraint())\n",
    "pprint_2(problem.getSolution())\n",
    "\n"
   ]
  },
  {
   "cell_type": "code",
   "execution_count": null,
   "metadata": {},
   "outputs": [],
   "source": []
  }
 ],
 "metadata": {
  "kernelspec": {
   "display_name": "Python [conda env:CAMP]",
   "language": "python",
   "name": "conda-env-CAMP-py"
  },
  "language_info": {
   "codemirror_mode": {
    "name": "ipython",
    "version": 3
   },
   "file_extension": ".py",
   "mimetype": "text/x-python",
   "name": "python",
   "nbconvert_exporter": "python",
   "pygments_lexer": "ipython3",
   "version": "3.7.6"
  }
 },
 "nbformat": 4,
 "nbformat_minor": 4
}
